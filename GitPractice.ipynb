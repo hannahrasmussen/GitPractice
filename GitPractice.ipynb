{
 "cells": [
  {
   "cell_type": "code",
   "execution_count": 1,
   "metadata": {},
   "outputs": [],
   "source": [
    "import numpy as np\n",
    "import numba as nb\n",
    "import matplotlib.pyplot as plt"
   ]
  },
  {
   "cell_type": "markdown",
   "metadata": {},
   "source": [
    "Hi! I want to practice using Git, so I'm going to write up a short simple code and try to do all those old Git things to it, it was one thing to practice them in the \"Learn Git Branching\" site but it's another to do it in \"real life\". I want to try to follow along with the \"Learn Git Branching\" tutorials with this code and see if it helps me understand it better. I'm going to use some code from ``FinalProject.ipynb`` since it has several parts that I can add in and take out and it's not too complex. It deals with graphing different Lorenz attractors."
   ]
  },
  {
   "cell_type": "code",
   "execution_count": 2,
   "metadata": {},
   "outputs": [],
   "source": [
    "#Some Constants\n",
    "\n",
    "Avogadro = 6.0221409e+23 #mol^-1, Avogadro's number, the number of atoms or molecules in a mole\n",
    "hbar = 6.582119569e-16 #eV⋅s, Reduced Planck constant\n",
    "c = 3e8 #m/s, speed of light\n",
    "G = 6.67430e-11 #m^3*kg^−1*s^−2, Newtonian gravitation constant"
   ]
  },
  {
   "cell_type": "code",
   "execution_count": 3,
   "metadata": {},
   "outputs": [],
   "source": [
    "#Arithmetic functions\n",
    "\n",
    "def add(x,y):\n",
    "    if (x==0):\n",
    "        return y\n",
    "    elif (y==0):\n",
    "        return x\n",
    "    else: \n",
    "        summ = x+y\n",
    "        return summ\n",
    "\n",
    "def subtract(x,y):\n",
    "    diff = x-y\n",
    "    return diff\n",
    "\n",
    "def multiply(x,y):\n",
    "    if (x==1):\n",
    "        return y\n",
    "    elif (y==1):\n",
    "        return x\n",
    "    else:\n",
    "        product = x*y\n",
    "        return product\n",
    "\n",
    "def divide(x,y):\n",
    "    if (y==0):\n",
    "        return (\"ERROR: Can't divide by zero\")\n",
    "    else:\n",
    "        quotient = x/y\n",
    "        return quotient\n",
    "    \n",
    "def quad_form(a,b,c): #the quadractic formula, this is going to be so unnecessarily messy\n",
    "    soln1num = add(-b,np.sqrt(subtract(b**2,4*a*c)))\n",
    "    soln1den = multiply(2,a)\n",
    "    soln1 = divide(soln1num,soln1den)\n",
    "    soln2num = subtract(-b,np.sqrt(subtract(b**2,4*a*c)))\n",
    "    soln2den = multiply(2,a)\n",
    "    soln2 = divide(soln2num,soln2den)\n",
    "    return soln1,soln2"
   ]
  },
  {
   "cell_type": "code",
   "execution_count": 5,
   "metadata": {},
   "outputs": [
    {
     "name": "stdout",
     "output_type": "stream",
     "text": [
      "The solutions to 2x^2+4x-5=0 are (0.8708286933869707, -2.8708286933869704)\n",
      "The solutions to 0x^2+3x+1=0 are (\"ERROR: Can't divide by zero\", \"ERROR: Can't divide by zero\")\n",
      "The solutions to -5x^2+0x+7=0 are (-1.1832159566199232, 1.1832159566199232)\n"
     ]
    }
   ],
   "source": [
    "#Tests for the function 'quad_form' to make sure all the if statements work\n",
    "\n",
    "print(\"The solutions to 2x^2+4x-5=0 are \"+str(quad_form(2.0,4.0,-5.0)))\n",
    "\n",
    "print(\"The solutions to 0x^2+3x+1=0 are \"+str(quad_form(0.0,3.0,1.0)))\n",
    "\n",
    "print(\"The solutions to -5x^2+0x+7=0 are \"+str(quad_form(-5.0,0.0,7.0)))"
   ]
  },
  {
   "cell_type": "code",
   "execution_count": null,
   "metadata": {},
   "outputs": [],
   "source": []
  }
 ],
 "metadata": {
  "kernelspec": {
   "display_name": "Python 3",
   "language": "python",
   "name": "python3"
  },
  "language_info": {
   "codemirror_mode": {
    "name": "ipython",
    "version": 3
   },
   "file_extension": ".py",
   "mimetype": "text/x-python",
   "name": "python",
   "nbconvert_exporter": "python",
   "pygments_lexer": "ipython3",
   "version": "3.7.10"
  }
 },
 "nbformat": 4,
 "nbformat_minor": 4
}
