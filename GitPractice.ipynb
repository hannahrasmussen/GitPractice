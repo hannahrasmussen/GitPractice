{
 "cells": [
  {
   "cell_type": "code",
   "execution_count": 1,
   "metadata": {},
   "outputs": [],
   "source": [
    "import numpy as np\n",
    "import numba as nb\n",
    "import matplotlib.pyplot as plt"
   ]
  },
  {
   "cell_type": "markdown",
   "metadata": {},
   "source": [
    "Hi! I want to practice using Git, so I'm going to write up a short simple code and try to do all those old Git things to it, it was one thing to practice them in the \"Learn Git Branching\" site but it's another to do it in \"real life\". I want to try to follow along with the \"Learn Git Branching\" tutorials with this code and see if it helps me understand it better. I'm going to use some code from ``FinalProject.ipynb`` since it has several parts that I can add in and take out and it's not too complex. It deals with graphing different Lorenz attractors."
   ]
  },
  {
   "cell_type": "code",
   "execution_count": 2,
   "metadata": {},
   "outputs": [],
   "source": [
    "#Some Constants\n",
    "\n",
    "Avogadro = 6.0221409e+23 #mol^-1, Avogadro's number, the number of atoms or molecules in a mole\n",
    "hbar = 6.582119569e-16 #eV⋅s, Reduced Planck constant\n",
    "c = 3e8 #m/s, speed of light\n",
    "G = 6.67430e-11 #m^3*kg^−1*s^−2, Newtonian gravitation constant"
   ]
  },
  {
   "cell_type": "code",
   "execution_count": 2,
   "metadata": {},
   "outputs": [],
   "source": [
    "#Arithmetic functions\n",
    "\n",
    "def add(x,y):\n",
    "    summ = x+y\n",
    "    return summ\n",
    "\n",
    "def subtract(x,y):\n",
    "    diff = x-y\n",
    "    return diff\n",
    "\n",
    "def multiply(x,y):\n",
    "    product = x*y\n",
    "    return product\n",
    "\n",
    "def divide(x,y):\n",
    "    if (y==0):\n",
    "        return (\"ERROR: Can't divide by zero\")\n",
    "    else:\n",
    "        quotient = x/y\n",
    "        return quotient"
   ]
  },
  {
   "cell_type": "code",
   "execution_count": 3,
   "metadata": {},
   "outputs": [
    {
     "name": "stdout",
     "output_type": "stream",
     "text": [
      "4+7=11\n",
      "-3+(-10)=-13\n",
      "147+(-147)=0\n",
      "0+0=0\n",
      "4-2=2\n",
      "3-3=0\n",
      "-3-(-3)=0\n",
      "0-0=0\n",
      "1*7=1\n",
      "-4*(-3)=12\n",
      "12*0=0\n",
      "0*0=0\n",
      "3/2=1.5\n",
      "0/5=0.0\n",
      "9/0=ERROR: Can't divide by zero\n",
      "0/0=ERROR: Can't divide by zero\n"
     ]
    }
   ],
   "source": [
    "#Tests for each function, mix it up a bit to make sure different kinds of numbers don't \"break it\" or anything\n",
    "\n",
    "print(\"4+7=\"+str(add(4,7)))\n",
    "\n",
    "print(\"-3+(-10)=\"+str(add(-3,-10)))\n",
    "\n",
    "print(\"147+(-147)=\"+str(add(147,-147)))\n",
    "\n",
    "print(\"0+0=\"+str(add(0,0)))\n",
    "\n",
    "print(\"4-2=\"+str(subtract(4,2)))\n",
    "\n",
    "print(\"3-3=\"+str(subtract(3,3)))\n",
    "\n",
    "print(\"-3-(-3)=\"+str(subtract(-3,-3)))\n",
    "\n",
    "print(\"0-0=\"+str(subtract(0,0)))\n",
    "\n",
    "print(\"1*7=\"+str(multiply(1,1)))\n",
    "\n",
    "print(\"-4*(-3)=\"+str(multiply(-4,-3)))\n",
    "\n",
    "print(\"12*0=\"+str(multiply(12,0)))\n",
    "\n",
    "print(\"0*0=\"+str(multiply(0,0)))\n",
    "\n",
    "print(\"3/2=\"+str(divide(3,2)))\n",
    "\n",
    "print(\"0/5=\"+str(divide(0,5)))\n",
    "\n",
    "print(\"9/0=\"+str(divide(9,0)))\n",
    "\n",
    "print(\"0/0=\"+str(divide(0,0)))"
   ]
  },
  {
   "cell_type": "code",
   "execution_count": null,
   "metadata": {},
   "outputs": [],
   "source": []
  }
 ],
 "metadata": {
  "kernelspec": {
   "display_name": "Python 3",
   "language": "python",
   "name": "python3"
  },
  "language_info": {
   "codemirror_mode": {
    "name": "ipython",
    "version": 3
   },
   "file_extension": ".py",
   "mimetype": "text/x-python",
   "name": "python",
   "nbconvert_exporter": "python",
   "pygments_lexer": "ipython3",
   "version": "3.7.10"
  }
 },
 "nbformat": 4,
 "nbformat_minor": 4
}
