{
 "cells": [
  {
   "cell_type": "code",
   "execution_count": 1,
   "metadata": {},
   "outputs": [],
   "source": [
    "import numpy as np\n",
    "import numba as nb\n",
    "import matplotlib.pyplot as plt"
   ]
  },
  {
   "cell_type": "markdown",
   "metadata": {},
   "source": [
    "Hi! I want to practice using Git, so I'm going to write up a short simple code and try to do all those old Git things to it, it was one thing to practice them in the \"Learn Git Branching\" site but it's another to do it in \"real life\". I want to try to follow along with the \"Learn Git Branching\" tutorials with this code and see if it helps me understand it better. I'm going to use some code from ``FinalProject.ipynb`` since it has several parts that I can add in and take out and it's not too complex. It deals with graphing different Lorenz attractors."
   ]
  },
  {
   "cell_type": "code",
   "execution_count": 2,
   "metadata": {},
   "outputs": [],
   "source": [
    "#Some Constants\n",
    "\n",
    "Avogadro = 6.0221409e+23 #mol^-1, Avogadro's number, the number of atoms or molecules in a mole\n",
    "hbar = 6.582119569e-16 #eV⋅s, Reduced Planck constant\n",
    "c = 3e8 #m/s, speed of light\n",
    "G = 6.67430e-11 #m^3*kg^−1*s^−2, Newtonian gravitation constant"
   ]
  },
  {
   "cell_type": "code",
   "execution_count": 3,
   "metadata": {},
   "outputs": [],
   "source": [
    "#Arithmetic functions\n",
    "\n",
    "def add(x,y):\n",
    "    if (x==0):\n",
    "        return str(y)+\" because 0 is the additive identity\"\n",
    "    elif (y==0):\n",
    "        return str(x)+\" because 0 is the additive identity\"\n",
    "    else: \n",
    "        summ = x+y\n",
    "        return summ\n",
    "\n",
    "def subtract(x,y):\n",
    "    diff = x-y\n",
    "    return diff\n",
    "\n",
    "def multiply(x,y):\n",
    "    if (x==1):\n",
    "        return str(y)+\" because 1 is the multiplicative identity\"\n",
    "    elif (y==1):\n",
    "        return str(x)+\" because 1 is the multiplicative identity\"\n",
    "    else:\n",
    "        product = x*y\n",
    "        return product\n",
    "\n",
    "def divide(x,y):\n",
    "    if (y==0):\n",
    "        return (\"ERROR: Can't divide by zero\")\n",
    "    else:\n",
    "        quotient = x/y\n",
    "        return quotient"
   ]
  },
  {
   "cell_type": "code",
   "execution_count": 4,
   "metadata": {},
   "outputs": [
    {
     "name": "stdout",
     "output_type": "stream",
     "text": [
      "1*3=3 because 1 is the multiplicative identity\n",
      "4*1=4 because 1 is the multiplicative identity\n",
      "5*7=35\n"
     ]
    }
   ],
   "source": [
    "#Tests for changes made to the function 'multiply' to make sure all the if statements work\n",
    "\n",
    "print(\"1*3=\"+str(multiply(1,3)))\n",
    "\n",
    "print(\"4*1=\"+str(multiply(4,1)))\n",
    "\n",
    "print(\"5*7=\"+str(multiply(5,7)))"
   ]
  },
  {
   "cell_type": "code",
   "execution_count": null,
   "metadata": {},
   "outputs": [],
   "source": []
  }
 ],
 "metadata": {
  "kernelspec": {
   "display_name": "Python 3",
   "language": "python",
   "name": "python3"
  },
  "language_info": {
   "codemirror_mode": {
    "name": "ipython",
    "version": 3
   },
   "file_extension": ".py",
   "mimetype": "text/x-python",
   "name": "python",
   "nbconvert_exporter": "python",
   "pygments_lexer": "ipython3",
   "version": "3.7.10"
  }
 },
 "nbformat": 4,
 "nbformat_minor": 4
}
